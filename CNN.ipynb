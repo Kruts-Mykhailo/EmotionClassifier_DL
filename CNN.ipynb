{
 "cells": [
  {
   "cell_type": "markdown",
   "metadata": {},
   "source": [
    "## Configurations and libraries\n",
    "\n",
    "**Important note**\n",
    "\n",
    "Generate the `FER2013+` dataset before running the application\n"
   ]
  },
  {
   "metadata": {
    "ExecuteTime": {
     "end_time": "2024-12-30T18:21:41.075473Z",
     "start_time": "2024-12-30T18:21:41.067012Z"
    }
   },
   "cell_type": "code",
   "source": [
    "import torch\n",
    "import torch.nn as nn\n",
    "import torch.optim as optim\n",
    "import torchvision\n",
    "from  torchvision import datasets, transforms\n",
    "from torch.utils.data import DataLoader, ConcatDataset\n",
    "import matplotlib.pyplot as plt\n",
    "from FERPlusDataset import FERPlusDataset\n",
    "from sklearn.metrics import accuracy_score, precision_score, recall_score, f1_score, confusion_matrix\n",
    "import seaborn as sns\n",
    "from torch.utils.tensorboard import SummaryWriter\n",
    "import random\n",
    "import os\n",
    "from datetime import datetime\n",
    "\n",
    "device = torch.device(\"mps\" if torch.mps.is_available() else \"cpu\")\n",
    "\n",
    "checkpoint_dir = \"checkpoints\"\n",
    "os.makedirs(checkpoint_dir, exist_ok=True)  # Ensure the checkpoint directory exists\n",
    "\n",
    "# device = \"cpu\"\n",
    "# Paths to dataset directories\n",
    "train_dir = \"./data/FER2013Train\"\n",
    "val_dir = \"./data/FER2013Valid\"\n",
    "test_dir = \"./data/FER2013Test\"\n",
    "\n",
    "# Paths to labels\n",
    "train_csv = \"./data/FER2013Train/label.csv\"\n",
    "val_csv = \"./data/FER2013Valid/label.csv\"\n",
    "test_csv = \"./data/FER2013Test/label.csv\""
   ],
   "outputs": [],
   "execution_count": 24
  },
  {
   "cell_type": "code",
   "metadata": {
    "ExecuteTime": {
     "end_time": "2024-12-30T18:21:41.204925Z",
     "start_time": "2024-12-30T18:21:41.143572Z"
    }
   },
   "source": [
    "def check_data_availability(image_dir, label_csv):\n",
    "    if not os.path.exists(image_dir):\n",
    "        print(f\"Error: Directory {image_dir} does not exist.\")\n",
    "        return False\n",
    "\n",
    "    png_files = [f for f in os.listdir(image_dir) if f.endswith('.png')]\n",
    "    if len(png_files) == 0:\n",
    "        print(f\"Error: No .png files found in directory {image_dir}.\")\n",
    "        return False\n",
    "\n",
    "    # Check if label CSV exists\n",
    "    if not os.path.exists(label_csv):\n",
    "        print(f\"Error: Label file {label_csv} does not exist.\")\n",
    "        return False\n",
    "\n",
    "    print(f\"Data check passed for {image_dir} and {label_csv}.\")\n",
    "    return True\n",
    "\n",
    "# Check all directories\n",
    "if (\n",
    "    check_data_availability(train_dir, train_csv) and\n",
    "    check_data_availability(val_dir, val_csv) and\n",
    "    check_data_availability(test_dir, test_csv)\n",
    "):\n",
    "    print(\"All data is available and ready for training!\")\n",
    "else:\n",
    "    print(\"Data check failed. Please fix the errors and try again.\")\n"
   ],
   "outputs": [
    {
     "name": "stdout",
     "output_type": "stream",
     "text": [
      "Data check passed for ./data/FER2013Train and ./data/FER2013Train/label.csv.\n",
      "Data check passed for ./data/FER2013Valid and ./data/FER2013Valid/label.csv.\n",
      "Data check passed for ./data/FER2013Test and ./data/FER2013Test/label.csv.\n",
      "All data is available and ready for training!\n"
     ]
    }
   ],
   "execution_count": 25
  },
  {
   "cell_type": "markdown",
   "metadata": {},
   "source": [
    "## Data Preprocessing\n",
    "\n",
    "`Challenge:`\n",
    "\n",
    "What is the proper way to augment dataset?\n",
    "\n",
    "There are 2 ways to apply augmentation:\n",
    "* On the fly (when loading custom `Dataset`, pass original image and augmented image)\n",
    "* Create a separate augmented dataset and combine with original \n",
    "\n",
    "`Solution:`\n",
    "\n",
    "We chose to create a separate dataset and combine it with original one.\n",
    "\n",
    "\n"
   ]
  },
  {
   "cell_type": "code",
   "metadata": {
    "ExecuteTime": {
     "end_time": "2024-12-30T18:21:41.307725Z",
     "start_time": "2024-12-30T18:21:41.208933Z"
    }
   },
   "source": [
    "# Apply transformations and augmentation\n",
    "main_transform = transforms.Compose([\n",
    "    transforms.Resize((48, 48)),\n",
    "    transforms.ToTensor() ,  \n",
    "    transforms.Normalize((0.5,), (0.5,), (0.5,),)  \n",
    "])\n",
    "\n",
    "train_augmentation = transforms.Compose([\n",
    "    transforms.RandomHorizontalFlip(p=0.5),\n",
    "    transforms.RandomRotation(degrees=10),  # Reduce rotation degrees\n",
    "    transforms.ColorJitter(brightness=0.05, contrast=0.05),  # Subtle jitter\n",
    "    transforms.RandomResizedCrop(size=(40, 40), scale=(0.9, 1.0)),  # Reduce crop range\n",
    "    transforms.RandomAffine(degrees=10, translate=(0.1, 0.1)),\n",
    "    transforms.Resize((48, 48)),\n",
    "    transforms.ToTensor(),\n",
    "    transforms.Normalize((0.5,), (0.5,))\n",
    "])\n",
    "\n",
    "\n",
    "train_first_dataset = FERPlusDataset(image_dir=train_dir, aug_transform=train_augmentation, transform=main_transform, label_csv=train_csv, mode=\"majority\")\n",
    "\n",
    "test_dataset = FERPlusDataset(image_dir=test_dir, aug_transform=None, transform=main_transform, label_csv=test_csv, mode=\"majority\")\n",
    "validation_dataset = FERPlusDataset(image_dir=val_dir, aug_transform=None, transform=main_transform, label_csv=val_csv, mode=\"majority\")\n",
    "\n",
    "# Create data loaders\n",
    "batch_size = 64  \n",
    "    \n",
    "train_loader = DataLoader(train_first_dataset, batch_size=batch_size, shuffle=True)\n",
    "test_loader = DataLoader(test_dataset, batch_size=batch_size, shuffle=False)\n",
    "val_loader = DataLoader(validation_dataset, batch_size=batch_size, shuffle=False)"
   ],
   "outputs": [],
   "execution_count": 26
  },
  {
   "cell_type": "code",
   "metadata": {
    "ExecuteTime": {
     "end_time": "2024-12-30T18:21:41.433837Z",
     "start_time": "2024-12-30T18:21:41.351729Z"
    }
   },
   "source": [
    "# Debugging a sample\n",
    "for img, label in train_loader:\n",
    "    print(f\"Image type: {type(img)}, Image shape: {img.shape}\")\n",
    "    break\n"
   ],
   "outputs": [
    {
     "name": "stdout",
     "output_type": "stream",
     "text": [
      "Image type: <class 'torch.Tensor'>, Image shape: torch.Size([64, 3, 48, 48])\n"
     ]
    }
   ],
   "execution_count": 27
  },
  {
   "cell_type": "markdown",
   "metadata": {},
   "source": [
    "## CNN Architecture\n",
    "4 blocks:\n",
    "* Convolutional layer\n",
    "* Normalization layer\n",
    "* `ReLU` activation function\n",
    "* Convolutional layer\n",
    "* Normalization layer\n",
    "* `ReLU` activation function\n",
    "* `Max Pooling` layer\n",
    "\n",
    "last 5-th block:  \n",
    "Same as previous. Without Pooling layer\n",
    "\n",
    "1 dense layer\n",
    "\n",
    "**Challenge**: Model takes more than `10 minutes` to train   \n",
    "**Suggested solution**: Decrease the amount of out_channels in convolutional layers and add Normalization.  \n",
    "**Result**: Model takes `15% less time` compared to previous runs(ran on `cpu`)\n"
   ]
  },
  {
   "cell_type": "code",
   "metadata": {
    "ExecuteTime": {
     "end_time": "2024-12-30T18:21:41.493808Z",
     "start_time": "2024-12-30T18:21:41.480682Z"
    }
   },
   "source": [
    "class CNN(nn.Module):\n",
    "    def __init__(self, dropout_rate=0.6, num_emotions=2):\n",
    "        super(CNN, self).__init__()\n",
    "        self.dropout_rate = dropout_rate\n",
    "        self.num_emotions = num_emotions\n",
    "        \n",
    "        self.block1 = nn.Sequential(\n",
    "            nn.Conv2d(in_channels=3, out_channels=32, kernel_size=3, stride=1, padding=1),\n",
    "            nn.BatchNorm2d(32),\n",
    "            nn.ReLU(),\n",
    "            nn.Conv2d(in_channels=32, out_channels=32, kernel_size=3, stride=1, padding=1),\n",
    "            nn.BatchNorm2d(32),\n",
    "            nn.ReLU(),\n",
    "            nn.MaxPool2d(kernel_size=2, stride=2, padding=0)\n",
    "        )\n",
    "        \n",
    "        # Block 2\n",
    "        self.block2 = nn.Sequential(\n",
    "            nn.Conv2d(in_channels=32, out_channels=64, kernel_size=3, stride=1, padding=1),\n",
    "            nn.BatchNorm2d(64),\n",
    "            nn.ReLU(),\n",
    "            nn.Conv2d(in_channels=64, out_channels=64, kernel_size=3, stride=1, padding=1),\n",
    "            nn.BatchNorm2d(64),\n",
    "            nn.ReLU(),\n",
    "            nn.MaxPool2d(kernel_size=2, stride=2, padding=0)\n",
    "        )\n",
    "        \n",
    "        # Block 3\n",
    "        self.block3 = nn.Sequential(\n",
    "            nn.Conv2d(in_channels=64, out_channels=128, kernel_size=3, stride=1, padding=1),\n",
    "            nn.BatchNorm2d(128),\n",
    "            nn.ReLU(),\n",
    "            nn.Conv2d(in_channels=128, out_channels=128, kernel_size=3, stride=1, padding=1),\n",
    "            nn.BatchNorm2d(128),\n",
    "            nn.ReLU(),\n",
    "            nn.MaxPool2d(kernel_size=2, stride=2, padding=0)\n",
    "        )\n",
    "        \n",
    "        # Block 4\n",
    "        self.block4 = nn.Sequential(\n",
    "            nn.Conv2d(in_channels=128, out_channels=256, kernel_size=3, stride=1, padding=1),\n",
    "            nn.BatchNorm2d(256),\n",
    "            nn.ReLU(),\n",
    "            nn.Conv2d(in_channels=256, out_channels=256, kernel_size=3, stride=1, padding=1),\n",
    "            nn.BatchNorm2d(256),\n",
    "            nn.ReLU(),\n",
    "            nn.MaxPool2d(kernel_size=2, stride=2, padding=0)\n",
    "        )\n",
    "        \n",
    "        # Block 5\n",
    "        self.block5 = nn.Sequential(\n",
    "            nn.Conv2d(in_channels=256, out_channels=512, kernel_size=3, stride=1, padding=1),\n",
    "            nn.BatchNorm2d(512),\n",
    "            nn.ReLU(),\n",
    "            nn.Conv2d(in_channels=512, out_channels=512, kernel_size=3, stride=1, padding=1),\n",
    "            nn.BatchNorm2d(512),\n",
    "            nn.ReLU(),\n",
    "        )\n",
    "        \n",
    "        dummy_input = torch.zeros(1, 3, 48, 48)  # Assuming input image size (3, 48, 48)\n",
    "        self.flatten_size = self._get_flatten_size(dummy_input)\n",
    "\n",
    "        self.dense_layer = nn.Sequential(\n",
    "            nn.AdaptiveAvgPool2d(1),  # Global Average Pooling\n",
    "            nn.Flatten(),\n",
    "            nn.Linear(in_features=512, out_features=256),\n",
    "            nn.LayerNorm(256),\n",
    "            nn.ReLU(),\n",
    "            nn.Dropout(dropout_rate),\n",
    "            nn.Linear(in_features=256, out_features=128),\n",
    "            nn.LayerNorm(128),\n",
    "            nn.ReLU(),\n",
    "            nn.Dropout(dropout_rate),\n",
    "            nn.Linear(in_features=128, out_features=num_emotions)  # Output layer for num_emotions classes\n",
    "        )\n",
    "        \n",
    "    def _get_flatten_size(self, x):\n",
    "        \"\"\"Calculate the flatten size dynamically by passing a dummy input.\"\"\"\n",
    "        x = self.block1(x)\n",
    "        x = self.block2(x)\n",
    "        x = self.block3(x)\n",
    "        x = self.block4(x)\n",
    "        x = self.block5(x)\n",
    "        return x.view(x.size(0), -1).size(1)\n",
    "\n",
    "    def forward(self, x):\n",
    "        x = self.block1(x)\n",
    "        x = self.block2(x)\n",
    "        x = self.block3(x)\n",
    "        x = self.block4(x)\n",
    "        x = self.block5(x)\n",
    "        x = self.dense_layer(x)\n",
    "        return x\n"
   ],
   "outputs": [],
   "execution_count": 28
  },
  {
   "cell_type": "markdown",
   "metadata": {},
   "source": [
    "## Regularization: Early stopping"
   ]
  },
  {
   "cell_type": "code",
   "metadata": {
    "ExecuteTime": {
     "end_time": "2024-12-30T18:21:41.543723Z",
     "start_time": "2024-12-30T18:21:41.539169Z"
    }
   },
   "source": [
    "class EarlyStopping:\n",
    "    def __init__(self, patience=3):\n",
    "        self.patience = patience # Number of epochs to wait before stopping\n",
    "        self.best_loss = float('inf')\n",
    "        self.counter = 0\n",
    "        self.early_stop = False\n",
    "    \n",
    "    def __call__(self, val_loss):\n",
    "        if val_loss < self.best_loss:\n",
    "            self.best_loss = val_loss\n",
    "            self.counter = 0\n",
    "            \n",
    "        else:\n",
    "            self.counter += 1\n",
    "            if self.counter >= self.patience:\n",
    "                self.early_stop = True\n"
   ],
   "outputs": [],
   "execution_count": 29
  },
  {
   "cell_type": "markdown",
   "metadata": {},
   "source": [
    "## Train the model"
   ]
  },
  {
   "cell_type": "code",
   "metadata": {
    "ExecuteTime": {
     "end_time": "2024-12-30T18:21:41.597248Z",
     "start_time": "2024-12-30T18:21:41.584550Z"
    }
   },
   "source": [
    "def early_stopping_triggered(early_stopping, val_loss):\n",
    "    \"\"\"Check and handle early stopping condition.\"\"\"\n",
    "    early_stopping(val_loss)\n",
    "    return early_stopping.early_stop\n",
    "\n",
    "def train_one_epoch(model, train_loader, optimizer, criterion, device):\n",
    "    \"\"\"Train the model for one epoch and compute metrics.\"\"\"\n",
    "    model.train()\n",
    "    running_loss = 0.0\n",
    "    all_labels = []\n",
    "    all_predictions = []\n",
    "\n",
    "    for inputs, labels in train_loader:\n",
    "        inputs, labels = inputs.to(device), labels.to(device)\n",
    "        optimizer.zero_grad()\n",
    "        outputs = model(inputs)\n",
    "        loss = criterion(outputs, labels)\n",
    "        loss.backward()\n",
    "        optimizer.step()\n",
    "        running_loss += loss.item()\n",
    "\n",
    "        # Store predictions and labels for metrics\n",
    "        _, predicted = torch.max(outputs, 1)\n",
    "        all_labels.extend(labels.cpu().numpy())\n",
    "        all_predictions.extend(predicted.cpu().numpy())\n",
    "\n",
    "    # Calculate metrics\n",
    "    train_accuracy = accuracy_score(all_labels, all_predictions)\n",
    "    train_precision = precision_score(all_labels, all_predictions, average='weighted', zero_division=1)\n",
    "    train_recall = recall_score(all_labels, all_predictions, average='weighted')\n",
    "    train_f1 = f1_score(all_labels, all_predictions, average='weighted')\n",
    "\n",
    "    return running_loss / len(train_loader), train_accuracy, train_precision, train_recall, train_f1\n",
    "\n",
    "\n",
    "def validate_model(model, val_loader, criterion, device):\n",
    "    \"\"\"Evaluate the model on the validation set and compute metrics.\"\"\"\n",
    "    model.eval()\n",
    "    val_loss = 0.0\n",
    "    all_labels = []\n",
    "    all_predictions = []\n",
    "\n",
    "    with torch.no_grad():\n",
    "        for inputs, labels in val_loader:\n",
    "            inputs, labels = inputs.to(device), labels.to(device)\n",
    "            outputs = model(inputs)\n",
    "            val_loss += criterion(outputs, labels).item()\n",
    "\n",
    "            # Store predictions and labels for metrics\n",
    "            _, predicted = torch.max(outputs, 1)\n",
    "            all_labels.extend(labels.cpu().numpy())\n",
    "            all_predictions.extend(predicted.cpu().numpy())\n",
    "\n",
    "    # Calculate metrics\n",
    "    val_accuracy = accuracy_score(all_labels, all_predictions)\n",
    "    val_precision = precision_score(all_labels, all_predictions, average='weighted', zero_division=1)\n",
    "    val_recall = recall_score(all_labels, all_predictions, average='weighted')\n",
    "    val_f1 = f1_score(all_labels, all_predictions, average='weighted')\n",
    "\n",
    "    return val_loss / len(val_loader), val_accuracy, val_precision, val_recall, val_f1\n",
    "\n",
    "\n",
    "def train_model(model, train_loader, val_loader, optimizer, criterion, device, num_epochs, early_stopping):\n",
    "    \"\"\"Train the model with validation, metrics, and early stopping.\"\"\"\n",
    "\n",
    "    timestamp = datetime.now().strftime(\"%Y%m%d_%H%M%S\")\n",
    "    writer = SummaryWriter(f\"runs/model_{timestamp}\")\n",
    "    training_dir = f\"{checkpoint_dir}/training/\"\n",
    "    os.makedirs(training_dir, exist_ok=True)  # Ensure the checkpoint directory exists\n",
    "\n",
    "    \n",
    "    for epoch in range(num_epochs):\n",
    "        # Training\n",
    "        train_loss, train_accuracy, train_precision, train_recall, train_f1 = train_one_epoch(\n",
    "            model, train_loader, optimizer, criterion, device\n",
    "        )\n",
    "\n",
    "        # Validation\n",
    "        val_loss, val_accuracy, val_precision, val_recall, val_f1 = validate_model(\n",
    "            model, val_loader, criterion, device\n",
    "        )\n",
    "\n",
    "        \n",
    "        if epoch == num_epochs - 1:\n",
    "            print(\"================================\")\n",
    "            print(f\"Train Loss: {train_loss:.4f}\")\n",
    "            print(f\"Train Accuracy: {train_accuracy:.4f}\")\n",
    "            print(f\"Train Precision {train_precision:.4f}\")\n",
    "            print(f\"Train Recall: {train_recall:.4f}\")\n",
    "            print(f\"Train F1 score: {train_f1:.4f}\")\n",
    "            print(\"================================\")\n",
    "            print(f\"Val Loss: {val_loss:.4f}\")\n",
    "            print(f\"Val Accuracy: {val_accuracy:.4f}\")\n",
    "            print(f\"Val Precision {val_precision:.4f}\")\n",
    "            print(f\"Val Recall: {val_recall:.4f}\")\n",
    "            print(f\"Val F1 score: {val_f1:.4f}\")\n",
    "        else: \n",
    "            print(f\"Epoch {epoch+1}/{num_epochs} Train Loss: {train_loss:.4f}, Val Loss: {val_loss:.4f}\")\n",
    "\n",
    "        writer.add_scalar(\"Loss/Train\", train_loss, epoch + 1)\n",
    "        writer.add_scalar(\"Accuracy/Train\", train_accuracy, epoch + 1)\n",
    "        writer.add_scalar(\"Precision/Train\", train_precision, epoch + 1)\n",
    "\n",
    "        # Save model checkpoint\n",
    "        checkpoint_path = os.path.join(f\"{checkpoint_dir}/training/\", f\"epoch_{epoch+1}.pth\")\n",
    "        torch.save(model.state_dict(), checkpoint_path)\n",
    "        \n",
    "        # Early Stopping\n",
    "        if early_stopping_triggered(early_stopping, val_loss):\n",
    "            print(\"Early stopping triggered!\")\n",
    "            print(\"================================\")\n",
    "            print(f\"Train Loss: {train_loss:.4f}\")\n",
    "            print(f\"Train Accuracy: {train_accuracy:.4f}\")\n",
    "            print(f\"Train Precision {train_precision:.4f}\")\n",
    "            print(f\"Train Recall: {train_recall:.4f}\")\n",
    "            print(f\"Train F1 score: {train_f1:.4f}\")\n",
    "            print(\"================================\")\n",
    "            print(f\"Val Loss: {val_loss:.4f}\")\n",
    "            print(f\"Val Accuracy: {val_accuracy:.4f}\")\n",
    "            print(f\"Val Precision {val_precision:.4f}\")\n",
    "            print(f\"Val Recall: {val_recall:.4f}\")\n",
    "            print(f\"Val F1 score: {val_f1:.4f}\")\n",
    "            break\n",
    "        \n",
    "        \n",
    "        \n"
   ],
   "outputs": [],
   "execution_count": 30
  },
  {
   "cell_type": "markdown",
   "metadata": {},
   "source": [
    "## Run training process"
   ]
  },
  {
   "cell_type": "code",
   "metadata": {
    "ExecuteTime": {
     "end_time": "2024-12-30T18:57:52.258638Z",
     "start_time": "2024-12-30T18:21:41.639795Z"
    }
   },
   "source": [
    "early_stopping = EarlyStopping(patience=8)\n",
    "model = CNN(dropout_rate=0.4, num_emotions=8).to(device)\n",
    "criterion = nn.CrossEntropyLoss()  \n",
    "optimizer = optim.Adam(model.parameters(), lr=0.01, weight_decay=1e-7)\n",
    "\n",
    "# Train the model\n",
    "train_model(\n",
    "    model=model,\n",
    "    train_loader=train_loader,\n",
    "    val_loader=val_loader,\n",
    "    optimizer=optimizer,\n",
    "    criterion=criterion,\n",
    "    device=device,\n",
    "    num_epochs=20,\n",
    "    early_stopping=early_stopping,\n",
    ")"
   ],
   "outputs": [
    {
     "name": "stdout",
     "output_type": "stream",
     "text": [
      "Epoch 1/20 Train Loss: 1.5376, Val Loss: 1.4540\n",
      "Epoch 2/20 Train Loss: 1.3257, Val Loss: 1.2651\n",
      "Epoch 3/20 Train Loss: 1.1019, Val Loss: 1.1159\n",
      "Epoch 4/20 Train Loss: 0.9801, Val Loss: 0.8957\n",
      "Epoch 5/20 Train Loss: 0.9193, Val Loss: 0.8315\n",
      "Epoch 6/20 Train Loss: 0.8703, Val Loss: 0.8165\n",
      "Epoch 7/20 Train Loss: 0.8159, Val Loss: 0.7082\n",
      "Epoch 8/20 Train Loss: 0.7722, Val Loss: 0.6775\n",
      "Epoch 9/20 Train Loss: 0.7312, Val Loss: 0.6675\n",
      "Epoch 10/20 Train Loss: 0.7005, Val Loss: 0.7580\n",
      "Epoch 11/20 Train Loss: 0.6836, Val Loss: 0.6154\n",
      "Epoch 12/20 Train Loss: 0.6599, Val Loss: 0.6188\n",
      "Epoch 13/20 Train Loss: 0.6297, Val Loss: 0.6117\n",
      "Epoch 14/20 Train Loss: 0.6059, Val Loss: 0.6010\n",
      "Epoch 15/20 Train Loss: 0.5898, Val Loss: 0.5703\n",
      "Epoch 16/20 Train Loss: 0.5589, Val Loss: 0.5382\n",
      "Epoch 17/20 Train Loss: 0.5456, Val Loss: 0.5998\n",
      "Epoch 18/20 Train Loss: 0.5223, Val Loss: 0.5510\n",
      "Epoch 19/20 Train Loss: 0.5147, Val Loss: 0.5317\n",
      "================================\n",
      "Train Loss: 0.5058\n",
      "Train Accuracy: 0.8335\n",
      "Train Precision 0.8300\n",
      "Train Recall: 0.8335\n",
      "Train F1 score: 0.8233\n",
      "================================\n",
      "Val Loss: 0.5811\n",
      "Val Accuracy: 0.8020\n",
      "Val Precision 0.8179\n",
      "Val Recall: 0.8020\n",
      "Val F1 score: 0.7991\n"
     ]
    }
   ],
   "execution_count": 31
  },
  {
   "cell_type": "code",
   "metadata": {
    "ExecuteTime": {
     "end_time": "2024-12-30T18:57:52.396265Z",
     "start_time": "2024-12-30T18:57:52.355670Z"
    }
   },
   "source": [
    "from torchsummary import summary\n",
    "summary(model.to(\"cpu\"), input_size=(3, 48, 48), device=\"cpu\")\n",
    "\n",
    "# Move the model back to the MPS device for training\n",
    "model = model.to(device)"
   ],
   "outputs": [
    {
     "name": "stdout",
     "output_type": "stream",
     "text": [
      "----------------------------------------------------------------\n",
      "        Layer (type)               Output Shape         Param #\n",
      "================================================================\n",
      "            Conv2d-1           [-1, 32, 48, 48]             896\n",
      "       BatchNorm2d-2           [-1, 32, 48, 48]              64\n",
      "              ReLU-3           [-1, 32, 48, 48]               0\n",
      "            Conv2d-4           [-1, 32, 48, 48]           9,248\n",
      "       BatchNorm2d-5           [-1, 32, 48, 48]              64\n",
      "              ReLU-6           [-1, 32, 48, 48]               0\n",
      "         MaxPool2d-7           [-1, 32, 24, 24]               0\n",
      "            Conv2d-8           [-1, 64, 24, 24]          18,496\n",
      "       BatchNorm2d-9           [-1, 64, 24, 24]             128\n",
      "             ReLU-10           [-1, 64, 24, 24]               0\n",
      "           Conv2d-11           [-1, 64, 24, 24]          36,928\n",
      "      BatchNorm2d-12           [-1, 64, 24, 24]             128\n",
      "             ReLU-13           [-1, 64, 24, 24]               0\n",
      "        MaxPool2d-14           [-1, 64, 12, 12]               0\n",
      "           Conv2d-15          [-1, 128, 12, 12]          73,856\n",
      "      BatchNorm2d-16          [-1, 128, 12, 12]             256\n",
      "             ReLU-17          [-1, 128, 12, 12]               0\n",
      "           Conv2d-18          [-1, 128, 12, 12]         147,584\n",
      "      BatchNorm2d-19          [-1, 128, 12, 12]             256\n",
      "             ReLU-20          [-1, 128, 12, 12]               0\n",
      "        MaxPool2d-21            [-1, 128, 6, 6]               0\n",
      "           Conv2d-22            [-1, 256, 6, 6]         295,168\n",
      "      BatchNorm2d-23            [-1, 256, 6, 6]             512\n",
      "             ReLU-24            [-1, 256, 6, 6]               0\n",
      "           Conv2d-25            [-1, 256, 6, 6]         590,080\n",
      "      BatchNorm2d-26            [-1, 256, 6, 6]             512\n",
      "             ReLU-27            [-1, 256, 6, 6]               0\n",
      "        MaxPool2d-28            [-1, 256, 3, 3]               0\n",
      "           Conv2d-29            [-1, 512, 3, 3]       1,180,160\n",
      "      BatchNorm2d-30            [-1, 512, 3, 3]           1,024\n",
      "             ReLU-31            [-1, 512, 3, 3]               0\n",
      "           Conv2d-32            [-1, 512, 3, 3]       2,359,808\n",
      "      BatchNorm2d-33            [-1, 512, 3, 3]           1,024\n",
      "             ReLU-34            [-1, 512, 3, 3]               0\n",
      "AdaptiveAvgPool2d-35            [-1, 512, 1, 1]               0\n",
      "          Flatten-36                  [-1, 512]               0\n",
      "           Linear-37                  [-1, 256]         131,328\n",
      "        LayerNorm-38                  [-1, 256]             512\n",
      "             ReLU-39                  [-1, 256]               0\n",
      "          Dropout-40                  [-1, 256]               0\n",
      "           Linear-41                  [-1, 128]          32,896\n",
      "        LayerNorm-42                  [-1, 128]             256\n",
      "             ReLU-43                  [-1, 128]               0\n",
      "          Dropout-44                  [-1, 128]               0\n",
      "           Linear-45                    [-1, 8]           1,032\n",
      "================================================================\n",
      "Total params: 4,882,216\n",
      "Trainable params: 4,882,216\n",
      "Non-trainable params: 0\n",
      "----------------------------------------------------------------\n",
      "Input size (MB): 0.03\n",
      "Forward/backward pass size (MB): 6.82\n",
      "Params size (MB): 18.62\n",
      "Estimated Total Size (MB): 25.47\n",
      "----------------------------------------------------------------\n"
     ]
    }
   ],
   "execution_count": 32
  },
  {
   "cell_type": "markdown",
   "metadata": {},
   "source": [
    "## Evaluate the model"
   ]
  },
  {
   "cell_type": "code",
   "metadata": {
    "ExecuteTime": {
     "end_time": "2024-12-30T18:58:02.131711Z",
     "start_time": "2024-12-30T18:57:52.407841Z"
    }
   },
   "source": [
    "def evaluate_model(model, test_loader, device):\n",
    "    model.eval()\n",
    "    all_labels = []\n",
    "    all_predictions = []\n",
    "\n",
    "    with torch.no_grad():\n",
    "        for images, labels in test_loader:\n",
    "            images, labels = images.to(device), labels.to(device)\n",
    "            outputs = model(images)\n",
    "            _, predicted = torch.max(outputs, 1)\n",
    "\n",
    "            all_labels.extend(labels.cpu().numpy())\n",
    "            all_predictions.extend(predicted.cpu().numpy())\n",
    "            \n",
    "    accuracy = accuracy_score(all_labels, all_predictions)\n",
    "    precision = precision_score(all_labels, all_predictions, average='weighted')\n",
    "    recall = recall_score(all_labels, all_predictions, average='weighted')\n",
    "    f1 = f1_score(all_labels, all_predictions, average='weighted')\n",
    "\n",
    "    metrics = {\n",
    "        \"accuracy\": accuracy,\n",
    "        \"precision\": precision,\n",
    "        \"recall\": recall,\n",
    "        \"f1_score\": f1\n",
    "    }\n",
    "    \n",
    "    print(f\"Test Accuracy: {accuracy:.4f}\")\n",
    "    print(f\"Test Precision {precision:.4f}\")\n",
    "    print(f\"Test Recall: {recall:.4f}\")\n",
    "    print(f\"Test F1 score: {f1:.4f}\")\n",
    "    return metrics\n",
    "\n",
    "metrics = evaluate_model(model, test_loader, device)\n",
    "\n",
    "emotion_labels = [\n",
    "    \"Neutral\", \"Happiness\", \"Surprise\", \"Sadness\", \n",
    "    \"Anger\", \"Disgust\", \"Fear\", \"Contempt\"\n",
    "]\n",
    "\n",
    "all_labels = []  # True labels\n",
    "all_predictions = []  # Model predictions\n",
    "\n",
    "with torch.no_grad():\n",
    "    for images, labels in test_loader:\n",
    "        images, labels = images.to(device), labels.to(device)\n",
    "        outputs = model(images)\n",
    "        _, predicted = torch.max(outputs, 1)\n",
    "        all_labels.extend(labels.cpu().numpy())\n",
    "        all_predictions.extend(predicted.cpu().numpy())\n",
    "\n",
    "cm = confusion_matrix(all_labels, all_predictions)\n",
    "plt.figure(figsize=(8, 6))\n",
    "sns.heatmap(cm, annot=True, fmt=\"d\", cmap=\"Blues\", xticklabels=emotion_labels, yticklabels=emotion_labels)\n",
    "plt.title(\"Confusion Matrix\")\n",
    "plt.xlabel(\"Predicted\")\n",
    "plt.ylabel(\"True\")\n",
    "plt.show()"
   ],
   "outputs": [
    {
     "name": "stderr",
     "output_type": "stream",
     "text": [
      "C:\\Users\\ruzte\\PycharmProjects\\data_ai_5_dl_project\\.venv\\Lib\\site-packages\\sklearn\\metrics\\_classification.py:1565: UndefinedMetricWarning: Precision is ill-defined and being set to 0.0 in labels with no predicted samples. Use `zero_division` parameter to control this behavior.\n",
      "  _warn_prf(average, modifier, f\"{metric.capitalize()} is\", len(result))\n"
     ]
    },
    {
     "name": "stdout",
     "output_type": "stream",
     "text": [
      "Test Accuracy: 0.8263\n",
      "Test Precision 0.8299\n",
      "Test Recall: 0.8263\n",
      "Test F1 score: 0.8223\n"
     ]
    },
    {
     "data": {
      "text/plain": [
       "<Figure size 800x600 with 2 Axes>"
      ],
      "image/png": "[encoded data removed]"
     },
     "metadata": {},
     "output_type": "display_data"
    }
   ],
   "execution_count": 33
  },
  {
   "cell_type": "markdown",
   "metadata": {},
   "source": [
    "## Future work recommendation and Interpretation of the results\n",
    "\n",
    "**Overfitting**: Large gap between training and validation performance.  \n",
    "**Underfitting**: Both training and validation performances are poor.  \n",
    "**Good Model**: Training and validation performances are aligned and good.  \n",
    "\n",
    "\n",
    "### What to do next?\n",
    "\n",
    "`Addressing Class Imbalance:`  \n",
    "\n",
    "Use weighted loss functions (e.g., weighted cross-entropy) to penalize misclassification of minority classes more heavily.\n",
    "\n",
    "`Augmentation Pipeline Enhancements:`  \n",
    "\n",
    "Add more complex data augmentation techniques such as color jitter, Gaussian blur, or random noise injection to make the model more robust to real-world variability."
   ]
  },
  {
   "cell_type": "markdown",
   "metadata": {},
   "source": [
    "# Save the model"
   ]
  },
  {
   "cell_type": "code",
   "metadata": {
    "ExecuteTime": {
     "end_time": "2024-12-30T19:16:25.596356Z",
     "start_time": "2024-12-30T19:16:21.899510Z"
    }
   },
   "source": [
    "os.makedirs(\"models/\", exist_ok=True) \n",
    "\n",
    "if metrics['accuracy'] > 0.80:\n",
    "    torch.save(model, \"models/model_80.pth\")"
   ],
   "outputs": [],
   "execution_count": 40
  },
  {
   "cell_type": "markdown",
   "metadata": {},
   "source": [
    "## Hyperparameter tuning: Random Search \n",
    "\n",
    "`Observed problem:`  \n",
    "\n",
    "As seen in hyperparameter tuning and just by running the model manually, our team found out  \n",
    "that model accuracy becomes `worse` if we utilize the `L2 regularization` for Adam Optimizer\n",
    "\n",
    "`Proposed Solution:` \n",
    "\n",
    "Avoid using L2 regularization in basic run"
   ]
  },
  {
   "cell_type": "code",
   "metadata": {
    "ExecuteTime": {
     "end_time": "2024-12-30T18:58:02.306615Z",
     "start_time": "2024-12-30T18:58:02.289424Z"
    }
   },
   "source": [
    "def random_search_with_logging(train_loader, val_loader, num_trials, device, ):\n",
    "    param_grid = {\n",
    "        'learning_rate': [1e-4, 5e-4, 1e-3, 5e-3],\n",
    "        'dropout_rate': [0.3, 0.4, 0.5, 0.6],\n",
    "        'weight_decay': [1e-5, 1e-4, 1e-3],\n",
    "        'batch_size': [16, 32, 64, 128]\n",
    "    }\n",
    "\n",
    "    random_search_dir = f\"{checkpoint_dir}/tuning/\"\n",
    "    os.makedirs(random_search_dir, exist_ok=True) \n",
    "\n",
    "    best_val_loss = float('inf')\n",
    "    best_params = None\n",
    "\n",
    "    for trial in range(num_trials):\n",
    "\n",
    "        lr = random.choice(param_grid['learning_rate'])\n",
    "        dropout_rate = random.choice(param_grid['dropout_rate'])\n",
    "        weight_decay = random.choice(param_grid['weight_decay'])\n",
    "        batch_size = random.choice(param_grid['batch_size'])\n",
    "\n",
    "        print(f\"\\nTrial {trial + 1}/{num_trials}:\")\n",
    "        print(f\"Learning Rate: {lr}, Dropout Rate: {dropout_rate}, Weight Decay: {weight_decay}, Batch Size: {batch_size}\")\n",
    "\n",
    "\n",
    "        ## Apply random hyperparameter values\n",
    "        train_loader = DataLoader(train_first_dataset, batch_size=batch_size, shuffle=True)\n",
    "        val_loader = DataLoader(validation_dataset, batch_size=batch_size, shuffle=False)\n",
    "\n",
    "        model = CNN(dropout_rate=dropout_rate, num_emotions=8).to(device)\n",
    "        criterion = nn.CrossEntropyLoss()\n",
    "        optimizer = optim.Adam(model.parameters(), lr=lr, weight_decay=weight_decay)\n",
    "\n",
    "        # TensorBoard writer for this trial\n",
    "        writer = SummaryWriter(log_dir=f\"runs/trial_{trial + 1}\")\n",
    "\n",
    "        # Train the model\n",
    "        num_epochs = 10\n",
    "        for epoch in range(num_epochs):\n",
    "            model.train()\n",
    "            running_loss = 0.0\n",
    "            for inputs, labels in train_loader:\n",
    "                inputs, labels = inputs.to(device), labels.to(device)\n",
    "                optimizer.zero_grad()\n",
    "                outputs = model(inputs)\n",
    "                loss = criterion(outputs, labels)\n",
    "                loss.backward()\n",
    "                optimizer.step()\n",
    "                running_loss += loss.item()\n",
    "\n",
    "            train_loss = running_loss / len(train_loader)\n",
    "\n",
    "            # Validation\n",
    "            model.eval()\n",
    "            val_loss = 0.0\n",
    "            correct = 0\n",
    "            total = 0\n",
    "            with torch.no_grad():\n",
    "                for val_inputs, val_targets in val_loader:\n",
    "                    val_inputs, val_targets = val_inputs.to(device), val_targets.to(device)\n",
    "                    val_outputs = model(val_inputs)\n",
    "                    val_loss += criterion(val_outputs, val_targets).item()\n",
    "\n",
    "                    _, predicted = torch.max(val_outputs, 1)\n",
    "                    correct += (predicted == val_targets).sum().item()\n",
    "                    total += val_targets.size(0)\n",
    "\n",
    "            val_loss /= len(val_loader)\n",
    "            val_accuracy = correct / total\n",
    "\n",
    "            # Log to TensorBoard\n",
    "            writer.add_scalar(\"Loss/Train\", train_loss, epoch)\n",
    "            writer.add_scalar(\"Loss/Validation\", val_loss, epoch)\n",
    "            writer.add_scalar(\"Accuracy/Validation\", val_accuracy, epoch)\n",
    "            print(f\"Epoch {epoch + 1}/{num_epochs}, Train Loss: {train_loss:.4f}, Val Loss: {val_loss:.4f}, Val Accuracy: {val_accuracy:.4f}\")\n",
    "\n",
    "            # Save checkpoint for the current trial\n",
    "            torch.save(model.state_dict(), f\"{random_search_dir}trial_{trial + 1}_epoch_{epoch + 1}.pth\")\n",
    "\n",
    "        # Update best parameters if validation loss improves\n",
    "        if val_loss < best_val_loss:\n",
    "            best_val_loss = val_loss\n",
    "            best_params = {\n",
    "                'learning_rate': lr,\n",
    "                'dropout_rate': dropout_rate,\n",
    "                'weight_decay': weight_decay,\n",
    "                'batch_size': batch_size\n",
    "            }\n",
    "            print(f\"New best parameters found: {best_params}, Val Loss: {best_val_loss:.4f}\")\n",
    "\n",
    "        writer.close()  \n",
    "\n",
    "    print(\"\\nRandom Search Complete!\")\n",
    "    print(f\"Best Parameters: {best_params}\")\n",
    "    print(f\"Best Validation Loss: {best_val_loss:.4f}\")\n",
    "    return best_params, best_val_loss\n",
    "\n",
    "\n",
    "def run_with_best_params(best_params, train_loader, val_loader, test_loader, num_epochs, device):\n",
    "    print(\"\\nTraining with Best Parameters:\")\n",
    "    print(f\"Learning Rate: {best_params['learning_rate']}, Dropout Rate: {best_params['dropout_rate']}, \"\n",
    "          f\"Weight Decay: {best_params['weight_decay']}, Batch Size: {best_params['batch_size']}\")\n",
    "\n",
    "    # Adjust DataLoaders with the best batch size\n",
    "    train_loader = DataLoader(train_first_dataset,\n",
    "                               batch_size=best_params['batch_size'], shuffle=True)\n",
    "    val_loader = DataLoader(validation_dataset, batch_size=best_params['batch_size'], shuffle=False)\n",
    "    test_loader = DataLoader(test_dataset, batch_size=best_params['batch_size'], shuffle=False)\n",
    "\n",
    "    # Initialize model, optimizer, and criterion\n",
    "    model = CNN(dropout_rate=best_params['dropout_rate'], num_emotions=8).to(device)\n",
    "    optimizer = optim.Adam(model.parameters(), lr=best_params['learning_rate'], weight_decay=best_params['weight_decay'])\n",
    "    criterion = nn.CrossEntropyLoss()\n",
    "\n",
    "    # Early stopping setup\n",
    "    early_stopping = EarlyStopping(patience=5)\n",
    "\n",
    "    # Train the model\n",
    "    train_model(\n",
    "        model=model,\n",
    "        train_loader=train_loader,\n",
    "        val_loader=val_loader,\n",
    "        optimizer=optimizer,\n",
    "        criterion=criterion,\n",
    "        device=device,\n",
    "        num_epochs=num_epochs,\n",
    "        early_stopping=early_stopping\n",
    "    )\n",
    "\n",
    "    # Evaluate the model on the test set\n",
    "    test_metrics = evaluate_model(model, test_loader, device)\n",
    "\n",
    "    # Plot confusion matrix\n",
    "    all_labels = []\n",
    "    all_predictions = []\n",
    "    with torch.no_grad():\n",
    "        for images, labels in test_loader:\n",
    "            images, labels = images.to(device), labels.to(device)\n",
    "            outputs = model(images)\n",
    "            _, predicted = torch.max(outputs, 1)\n",
    "            all_labels.extend(labels.cpu().numpy())\n",
    "            all_predictions.extend(predicted.cpu().numpy())\n",
    "\n",
    "    cm = confusion_matrix(all_labels, all_predictions)\n",
    "    plt.figure(figsize=(8, 6))\n",
    "    sns.heatmap(cm, annot=True, fmt=\"d\", cmap=\"Blues\")\n",
    "    plt.title(\"Confusion Matrix\")\n",
    "    plt.xlabel(\"Predicted\")\n",
    "    plt.ylabel(\"True\")\n",
    "    plt.show()\n",
    "\n",
    "    return model, test_metrics\n"
   ],
   "outputs": [],
   "execution_count": 35
  },
  {
   "cell_type": "markdown",
   "metadata": {},
   "source": [
    "## Run with best parameters"
   ]
  },
  {
   "cell_type": "code",
   "metadata": {
    "ExecuteTime": {
     "end_time": "2024-12-30T19:07:20.733519Z",
     "start_time": "2024-12-30T18:58:02.313622Z"
    }
   },
   "source": [
    "best_params, best_val_loss = random_search_with_logging(train_loader, val_loader, num_trials=5, device=device)\n",
    "\n",
    "model, test_metrics = run_with_best_params(\n",
    "    best_params=best_params,\n",
    "    train_loader=train_loader,\n",
    "    val_loader=val_loader,\n",
    "    test_loader=test_loader,\n",
    "    num_epochs=20,\n",
    "    device=device\n",
    ")"
   ],
   "outputs": [
    {
     "name": "stdout",
     "output_type": "stream",
     "text": [
      "\n",
      "Trial 1/5:\n",
      "Learning Rate: 0.005, Dropout Rate: 0.6, Weight Decay: 0.001, Batch Size: 16\n",
      "Epoch 1/10, Train Loss: 1.5884, Val Loss: 1.5498, Val Accuracy: 0.3096\n",
      "Epoch 2/10, Train Loss: 1.5692, Val Loss: 1.5376, Val Accuracy: 0.3602\n",
      "Epoch 3/10, Train Loss: 1.5581, Val Loss: 1.5440, Val Accuracy: 0.3096\n",
      "Epoch 4/10, Train Loss: 1.5578, Val Loss: 1.5497, Val Accuracy: 0.3388\n"
     ]
    },
    {
     "ename": "KeyboardInterrupt",
     "evalue": "",
     "output_type": "error",
     "traceback": [
      "\u001B[1;31m---------------------------------------------------------------------------\u001B[0m",
      "\u001B[1;31mKeyboardInterrupt\u001B[0m                         Traceback (most recent call last)",
      "Cell \u001B[1;32mIn[36], line 1\u001B[0m\n\u001B[1;32m----> 1\u001B[0m best_params, best_val_loss \u001B[38;5;241m=\u001B[39m \u001B[43mrandom_search_with_logging\u001B[49m\u001B[43m(\u001B[49m\u001B[43mtrain_loader\u001B[49m\u001B[43m,\u001B[49m\u001B[43m \u001B[49m\u001B[43mval_loader\u001B[49m\u001B[43m,\u001B[49m\u001B[43m \u001B[49m\u001B[43mnum_trials\u001B[49m\u001B[38;5;241;43m=\u001B[39;49m\u001B[38;5;241;43m5\u001B[39;49m\u001B[43m,\u001B[49m\u001B[43m \u001B[49m\u001B[43mdevice\u001B[49m\u001B[38;5;241;43m=\u001B[39;49m\u001B[43mdevice\u001B[49m\u001B[43m)\u001B[49m\n\u001B[0;32m      3\u001B[0m model, test_metrics \u001B[38;5;241m=\u001B[39m run_with_best_params(\n\u001B[0;32m      4\u001B[0m     best_params\u001B[38;5;241m=\u001B[39mbest_params,\n\u001B[0;32m      5\u001B[0m     train_loader\u001B[38;5;241m=\u001B[39mtrain_loader,\n\u001B[1;32m   (...)\u001B[0m\n\u001B[0;32m      9\u001B[0m     device\u001B[38;5;241m=\u001B[39mdevice\n\u001B[0;32m     10\u001B[0m )\n",
      "Cell \u001B[1;32mIn[35], line 45\u001B[0m, in \u001B[0;36mrandom_search_with_logging\u001B[1;34m(train_loader, val_loader, num_trials, device)\u001B[0m\n\u001B[0;32m     43\u001B[0m inputs, labels \u001B[38;5;241m=\u001B[39m inputs\u001B[38;5;241m.\u001B[39mto(device), labels\u001B[38;5;241m.\u001B[39mto(device)\n\u001B[0;32m     44\u001B[0m optimizer\u001B[38;5;241m.\u001B[39mzero_grad()\n\u001B[1;32m---> 45\u001B[0m outputs \u001B[38;5;241m=\u001B[39m \u001B[43mmodel\u001B[49m\u001B[43m(\u001B[49m\u001B[43minputs\u001B[49m\u001B[43m)\u001B[49m\n\u001B[0;32m     46\u001B[0m loss \u001B[38;5;241m=\u001B[39m criterion(outputs, labels)\n\u001B[0;32m     47\u001B[0m loss\u001B[38;5;241m.\u001B[39mbackward()\n",
      "File \u001B[1;32m~\\PycharmProjects\\data_ai_5_dl_project\\.venv\\Lib\\site-packages\\torch\\nn\\modules\\module.py:1736\u001B[0m, in \u001B[0;36mModule._wrapped_call_impl\u001B[1;34m(self, *args, **kwargs)\u001B[0m\n\u001B[0;32m   1734\u001B[0m     \u001B[38;5;28;01mreturn\u001B[39;00m \u001B[38;5;28mself\u001B[39m\u001B[38;5;241m.\u001B[39m_compiled_call_impl(\u001B[38;5;241m*\u001B[39margs, \u001B[38;5;241m*\u001B[39m\u001B[38;5;241m*\u001B[39mkwargs)  \u001B[38;5;66;03m# type: ignore[misc]\u001B[39;00m\n\u001B[0;32m   1735\u001B[0m \u001B[38;5;28;01melse\u001B[39;00m:\n\u001B[1;32m-> 1736\u001B[0m     \u001B[38;5;28;01mreturn\u001B[39;00m \u001B[38;5;28;43mself\u001B[39;49m\u001B[38;5;241;43m.\u001B[39;49m\u001B[43m_call_impl\u001B[49m\u001B[43m(\u001B[49m\u001B[38;5;241;43m*\u001B[39;49m\u001B[43margs\u001B[49m\u001B[43m,\u001B[49m\u001B[43m \u001B[49m\u001B[38;5;241;43m*\u001B[39;49m\u001B[38;5;241;43m*\u001B[39;49m\u001B[43mkwargs\u001B[49m\u001B[43m)\u001B[49m\n",
      "File \u001B[1;32m~\\PycharmProjects\\data_ai_5_dl_project\\.venv\\Lib\\site-packages\\torch\\nn\\modules\\module.py:1747\u001B[0m, in \u001B[0;36mModule._call_impl\u001B[1;34m(self, *args, **kwargs)\u001B[0m\n\u001B[0;32m   1742\u001B[0m \u001B[38;5;66;03m# If we don't have any hooks, we want to skip the rest of the logic in\u001B[39;00m\n\u001B[0;32m   1743\u001B[0m \u001B[38;5;66;03m# this function, and just call forward.\u001B[39;00m\n\u001B[0;32m   1744\u001B[0m \u001B[38;5;28;01mif\u001B[39;00m \u001B[38;5;129;01mnot\u001B[39;00m (\u001B[38;5;28mself\u001B[39m\u001B[38;5;241m.\u001B[39m_backward_hooks \u001B[38;5;129;01mor\u001B[39;00m \u001B[38;5;28mself\u001B[39m\u001B[38;5;241m.\u001B[39m_backward_pre_hooks \u001B[38;5;129;01mor\u001B[39;00m \u001B[38;5;28mself\u001B[39m\u001B[38;5;241m.\u001B[39m_forward_hooks \u001B[38;5;129;01mor\u001B[39;00m \u001B[38;5;28mself\u001B[39m\u001B[38;5;241m.\u001B[39m_forward_pre_hooks\n\u001B[0;32m   1745\u001B[0m         \u001B[38;5;129;01mor\u001B[39;00m _global_backward_pre_hooks \u001B[38;5;129;01mor\u001B[39;00m _global_backward_hooks\n\u001B[0;32m   1746\u001B[0m         \u001B[38;5;129;01mor\u001B[39;00m _global_forward_hooks \u001B[38;5;129;01mor\u001B[39;00m _global_forward_pre_hooks):\n\u001B[1;32m-> 1747\u001B[0m     \u001B[38;5;28;01mreturn\u001B[39;00m \u001B[43mforward_call\u001B[49m\u001B[43m(\u001B[49m\u001B[38;5;241;43m*\u001B[39;49m\u001B[43margs\u001B[49m\u001B[43m,\u001B[49m\u001B[43m \u001B[49m\u001B[38;5;241;43m*\u001B[39;49m\u001B[38;5;241;43m*\u001B[39;49m\u001B[43mkwargs\u001B[49m\u001B[43m)\u001B[49m\n\u001B[0;32m   1749\u001B[0m result \u001B[38;5;241m=\u001B[39m \u001B[38;5;28;01mNone\u001B[39;00m\n\u001B[0;32m   1750\u001B[0m called_always_called_hooks \u001B[38;5;241m=\u001B[39m \u001B[38;5;28mset\u001B[39m()\n",
      "Cell \u001B[1;32mIn[28], line 87\u001B[0m, in \u001B[0;36mCNN.forward\u001B[1;34m(self, x)\u001B[0m\n\u001B[0;32m     86\u001B[0m \u001B[38;5;28;01mdef\u001B[39;00m \u001B[38;5;21mforward\u001B[39m(\u001B[38;5;28mself\u001B[39m, x):\n\u001B[1;32m---> 87\u001B[0m     x \u001B[38;5;241m=\u001B[39m \u001B[38;5;28;43mself\u001B[39;49m\u001B[38;5;241;43m.\u001B[39;49m\u001B[43mblock1\u001B[49m\u001B[43m(\u001B[49m\u001B[43mx\u001B[49m\u001B[43m)\u001B[49m\n\u001B[0;32m     88\u001B[0m     x \u001B[38;5;241m=\u001B[39m \u001B[38;5;28mself\u001B[39m\u001B[38;5;241m.\u001B[39mblock2(x)\n\u001B[0;32m     89\u001B[0m     x \u001B[38;5;241m=\u001B[39m \u001B[38;5;28mself\u001B[39m\u001B[38;5;241m.\u001B[39mblock3(x)\n",
      "File \u001B[1;32m~\\PycharmProjects\\data_ai_5_dl_project\\.venv\\Lib\\site-packages\\torch\\nn\\modules\\module.py:1736\u001B[0m, in \u001B[0;36mModule._wrapped_call_impl\u001B[1;34m(self, *args, **kwargs)\u001B[0m\n\u001B[0;32m   1734\u001B[0m     \u001B[38;5;28;01mreturn\u001B[39;00m \u001B[38;5;28mself\u001B[39m\u001B[38;5;241m.\u001B[39m_compiled_call_impl(\u001B[38;5;241m*\u001B[39margs, \u001B[38;5;241m*\u001B[39m\u001B[38;5;241m*\u001B[39mkwargs)  \u001B[38;5;66;03m# type: ignore[misc]\u001B[39;00m\n\u001B[0;32m   1735\u001B[0m \u001B[38;5;28;01melse\u001B[39;00m:\n\u001B[1;32m-> 1736\u001B[0m     \u001B[38;5;28;01mreturn\u001B[39;00m \u001B[38;5;28;43mself\u001B[39;49m\u001B[38;5;241;43m.\u001B[39;49m\u001B[43m_call_impl\u001B[49m\u001B[43m(\u001B[49m\u001B[38;5;241;43m*\u001B[39;49m\u001B[43margs\u001B[49m\u001B[43m,\u001B[49m\u001B[43m \u001B[49m\u001B[38;5;241;43m*\u001B[39;49m\u001B[38;5;241;43m*\u001B[39;49m\u001B[43mkwargs\u001B[49m\u001B[43m)\u001B[49m\n",
      "File \u001B[1;32m~\\PycharmProjects\\data_ai_5_dl_project\\.venv\\Lib\\site-packages\\torch\\nn\\modules\\module.py:1747\u001B[0m, in \u001B[0;36mModule._call_impl\u001B[1;34m(self, *args, **kwargs)\u001B[0m\n\u001B[0;32m   1742\u001B[0m \u001B[38;5;66;03m# If we don't have any hooks, we want to skip the rest of the logic in\u001B[39;00m\n\u001B[0;32m   1743\u001B[0m \u001B[38;5;66;03m# this function, and just call forward.\u001B[39;00m\n\u001B[0;32m   1744\u001B[0m \u001B[38;5;28;01mif\u001B[39;00m \u001B[38;5;129;01mnot\u001B[39;00m (\u001B[38;5;28mself\u001B[39m\u001B[38;5;241m.\u001B[39m_backward_hooks \u001B[38;5;129;01mor\u001B[39;00m \u001B[38;5;28mself\u001B[39m\u001B[38;5;241m.\u001B[39m_backward_pre_hooks \u001B[38;5;129;01mor\u001B[39;00m \u001B[38;5;28mself\u001B[39m\u001B[38;5;241m.\u001B[39m_forward_hooks \u001B[38;5;129;01mor\u001B[39;00m \u001B[38;5;28mself\u001B[39m\u001B[38;5;241m.\u001B[39m_forward_pre_hooks\n\u001B[0;32m   1745\u001B[0m         \u001B[38;5;129;01mor\u001B[39;00m _global_backward_pre_hooks \u001B[38;5;129;01mor\u001B[39;00m _global_backward_hooks\n\u001B[0;32m   1746\u001B[0m         \u001B[38;5;129;01mor\u001B[39;00m _global_forward_hooks \u001B[38;5;129;01mor\u001B[39;00m _global_forward_pre_hooks):\n\u001B[1;32m-> 1747\u001B[0m     \u001B[38;5;28;01mreturn\u001B[39;00m \u001B[43mforward_call\u001B[49m\u001B[43m(\u001B[49m\u001B[38;5;241;43m*\u001B[39;49m\u001B[43margs\u001B[49m\u001B[43m,\u001B[49m\u001B[43m \u001B[49m\u001B[38;5;241;43m*\u001B[39;49m\u001B[38;5;241;43m*\u001B[39;49m\u001B[43mkwargs\u001B[49m\u001B[43m)\u001B[49m\n\u001B[0;32m   1749\u001B[0m result \u001B[38;5;241m=\u001B[39m \u001B[38;5;28;01mNone\u001B[39;00m\n\u001B[0;32m   1750\u001B[0m called_always_called_hooks \u001B[38;5;241m=\u001B[39m \u001B[38;5;28mset\u001B[39m()\n",
      "File \u001B[1;32m~\\PycharmProjects\\data_ai_5_dl_project\\.venv\\Lib\\site-packages\\torch\\nn\\modules\\container.py:250\u001B[0m, in \u001B[0;36mSequential.forward\u001B[1;34m(self, input)\u001B[0m\n\u001B[0;32m    248\u001B[0m \u001B[38;5;28;01mdef\u001B[39;00m \u001B[38;5;21mforward\u001B[39m(\u001B[38;5;28mself\u001B[39m, \u001B[38;5;28minput\u001B[39m):\n\u001B[0;32m    249\u001B[0m     \u001B[38;5;28;01mfor\u001B[39;00m module \u001B[38;5;129;01min\u001B[39;00m \u001B[38;5;28mself\u001B[39m:\n\u001B[1;32m--> 250\u001B[0m         \u001B[38;5;28minput\u001B[39m \u001B[38;5;241m=\u001B[39m \u001B[43mmodule\u001B[49m\u001B[43m(\u001B[49m\u001B[38;5;28;43minput\u001B[39;49m\u001B[43m)\u001B[49m\n\u001B[0;32m    251\u001B[0m     \u001B[38;5;28;01mreturn\u001B[39;00m \u001B[38;5;28minput\u001B[39m\n",
      "File \u001B[1;32m~\\PycharmProjects\\data_ai_5_dl_project\\.venv\\Lib\\site-packages\\torch\\nn\\modules\\module.py:1736\u001B[0m, in \u001B[0;36mModule._wrapped_call_impl\u001B[1;34m(self, *args, **kwargs)\u001B[0m\n\u001B[0;32m   1734\u001B[0m     \u001B[38;5;28;01mreturn\u001B[39;00m \u001B[38;5;28mself\u001B[39m\u001B[38;5;241m.\u001B[39m_compiled_call_impl(\u001B[38;5;241m*\u001B[39margs, \u001B[38;5;241m*\u001B[39m\u001B[38;5;241m*\u001B[39mkwargs)  \u001B[38;5;66;03m# type: ignore[misc]\u001B[39;00m\n\u001B[0;32m   1735\u001B[0m \u001B[38;5;28;01melse\u001B[39;00m:\n\u001B[1;32m-> 1736\u001B[0m     \u001B[38;5;28;01mreturn\u001B[39;00m \u001B[38;5;28;43mself\u001B[39;49m\u001B[38;5;241;43m.\u001B[39;49m\u001B[43m_call_impl\u001B[49m\u001B[43m(\u001B[49m\u001B[38;5;241;43m*\u001B[39;49m\u001B[43margs\u001B[49m\u001B[43m,\u001B[49m\u001B[43m \u001B[49m\u001B[38;5;241;43m*\u001B[39;49m\u001B[38;5;241;43m*\u001B[39;49m\u001B[43mkwargs\u001B[49m\u001B[43m)\u001B[49m\n",
      "File \u001B[1;32m~\\PycharmProjects\\data_ai_5_dl_project\\.venv\\Lib\\site-packages\\torch\\nn\\modules\\module.py:1747\u001B[0m, in \u001B[0;36mModule._call_impl\u001B[1;34m(self, *args, **kwargs)\u001B[0m\n\u001B[0;32m   1742\u001B[0m \u001B[38;5;66;03m# If we don't have any hooks, we want to skip the rest of the logic in\u001B[39;00m\n\u001B[0;32m   1743\u001B[0m \u001B[38;5;66;03m# this function, and just call forward.\u001B[39;00m\n\u001B[0;32m   1744\u001B[0m \u001B[38;5;28;01mif\u001B[39;00m \u001B[38;5;129;01mnot\u001B[39;00m (\u001B[38;5;28mself\u001B[39m\u001B[38;5;241m.\u001B[39m_backward_hooks \u001B[38;5;129;01mor\u001B[39;00m \u001B[38;5;28mself\u001B[39m\u001B[38;5;241m.\u001B[39m_backward_pre_hooks \u001B[38;5;129;01mor\u001B[39;00m \u001B[38;5;28mself\u001B[39m\u001B[38;5;241m.\u001B[39m_forward_hooks \u001B[38;5;129;01mor\u001B[39;00m \u001B[38;5;28mself\u001B[39m\u001B[38;5;241m.\u001B[39m_forward_pre_hooks\n\u001B[0;32m   1745\u001B[0m         \u001B[38;5;129;01mor\u001B[39;00m _global_backward_pre_hooks \u001B[38;5;129;01mor\u001B[39;00m _global_backward_hooks\n\u001B[0;32m   1746\u001B[0m         \u001B[38;5;129;01mor\u001B[39;00m _global_forward_hooks \u001B[38;5;129;01mor\u001B[39;00m _global_forward_pre_hooks):\n\u001B[1;32m-> 1747\u001B[0m     \u001B[38;5;28;01mreturn\u001B[39;00m \u001B[43mforward_call\u001B[49m\u001B[43m(\u001B[49m\u001B[38;5;241;43m*\u001B[39;49m\u001B[43margs\u001B[49m\u001B[43m,\u001B[49m\u001B[43m \u001B[49m\u001B[38;5;241;43m*\u001B[39;49m\u001B[38;5;241;43m*\u001B[39;49m\u001B[43mkwargs\u001B[49m\u001B[43m)\u001B[49m\n\u001B[0;32m   1749\u001B[0m result \u001B[38;5;241m=\u001B[39m \u001B[38;5;28;01mNone\u001B[39;00m\n\u001B[0;32m   1750\u001B[0m called_always_called_hooks \u001B[38;5;241m=\u001B[39m \u001B[38;5;28mset\u001B[39m()\n",
      "File \u001B[1;32m~\\PycharmProjects\\data_ai_5_dl_project\\.venv\\Lib\\site-packages\\torch\\nn\\modules\\conv.py:554\u001B[0m, in \u001B[0;36mConv2d.forward\u001B[1;34m(self, input)\u001B[0m\n\u001B[0;32m    553\u001B[0m \u001B[38;5;28;01mdef\u001B[39;00m \u001B[38;5;21mforward\u001B[39m(\u001B[38;5;28mself\u001B[39m, \u001B[38;5;28minput\u001B[39m: Tensor) \u001B[38;5;241m-\u001B[39m\u001B[38;5;241m>\u001B[39m Tensor:\n\u001B[1;32m--> 554\u001B[0m     \u001B[38;5;28;01mreturn\u001B[39;00m \u001B[38;5;28;43mself\u001B[39;49m\u001B[38;5;241;43m.\u001B[39;49m\u001B[43m_conv_forward\u001B[49m\u001B[43m(\u001B[49m\u001B[38;5;28;43minput\u001B[39;49m\u001B[43m,\u001B[49m\u001B[43m \u001B[49m\u001B[38;5;28;43mself\u001B[39;49m\u001B[38;5;241;43m.\u001B[39;49m\u001B[43mweight\u001B[49m\u001B[43m,\u001B[49m\u001B[43m \u001B[49m\u001B[38;5;28;43mself\u001B[39;49m\u001B[38;5;241;43m.\u001B[39;49m\u001B[43mbias\u001B[49m\u001B[43m)\u001B[49m\n",
      "File \u001B[1;32m~\\PycharmProjects\\data_ai_5_dl_project\\.venv\\Lib\\site-packages\\torch\\nn\\modules\\conv.py:549\u001B[0m, in \u001B[0;36mConv2d._conv_forward\u001B[1;34m(self, input, weight, bias)\u001B[0m\n\u001B[0;32m    537\u001B[0m \u001B[38;5;28;01mif\u001B[39;00m \u001B[38;5;28mself\u001B[39m\u001B[38;5;241m.\u001B[39mpadding_mode \u001B[38;5;241m!=\u001B[39m \u001B[38;5;124m\"\u001B[39m\u001B[38;5;124mzeros\u001B[39m\u001B[38;5;124m\"\u001B[39m:\n\u001B[0;32m    538\u001B[0m     \u001B[38;5;28;01mreturn\u001B[39;00m F\u001B[38;5;241m.\u001B[39mconv2d(\n\u001B[0;32m    539\u001B[0m         F\u001B[38;5;241m.\u001B[39mpad(\n\u001B[0;32m    540\u001B[0m             \u001B[38;5;28minput\u001B[39m, \u001B[38;5;28mself\u001B[39m\u001B[38;5;241m.\u001B[39m_reversed_padding_repeated_twice, mode\u001B[38;5;241m=\u001B[39m\u001B[38;5;28mself\u001B[39m\u001B[38;5;241m.\u001B[39mpadding_mode\n\u001B[1;32m   (...)\u001B[0m\n\u001B[0;32m    547\u001B[0m         \u001B[38;5;28mself\u001B[39m\u001B[38;5;241m.\u001B[39mgroups,\n\u001B[0;32m    548\u001B[0m     )\n\u001B[1;32m--> 549\u001B[0m \u001B[38;5;28;01mreturn\u001B[39;00m \u001B[43mF\u001B[49m\u001B[38;5;241;43m.\u001B[39;49m\u001B[43mconv2d\u001B[49m\u001B[43m(\u001B[49m\n\u001B[0;32m    550\u001B[0m \u001B[43m    \u001B[49m\u001B[38;5;28;43minput\u001B[39;49m\u001B[43m,\u001B[49m\u001B[43m \u001B[49m\u001B[43mweight\u001B[49m\u001B[43m,\u001B[49m\u001B[43m \u001B[49m\u001B[43mbias\u001B[49m\u001B[43m,\u001B[49m\u001B[43m \u001B[49m\u001B[38;5;28;43mself\u001B[39;49m\u001B[38;5;241;43m.\u001B[39;49m\u001B[43mstride\u001B[49m\u001B[43m,\u001B[49m\u001B[43m \u001B[49m\u001B[38;5;28;43mself\u001B[39;49m\u001B[38;5;241;43m.\u001B[39;49m\u001B[43mpadding\u001B[49m\u001B[43m,\u001B[49m\u001B[43m \u001B[49m\u001B[38;5;28;43mself\u001B[39;49m\u001B[38;5;241;43m.\u001B[39;49m\u001B[43mdilation\u001B[49m\u001B[43m,\u001B[49m\u001B[43m \u001B[49m\u001B[38;5;28;43mself\u001B[39;49m\u001B[38;5;241;43m.\u001B[39;49m\u001B[43mgroups\u001B[49m\n\u001B[0;32m    551\u001B[0m \u001B[43m\u001B[49m\u001B[43m)\u001B[49m\n",
      "\u001B[1;31mKeyboardInterrupt\u001B[0m: "
     ]
    }
   ],
   "execution_count": 36
  },
  {
   "metadata": {},
   "cell_type": "code",
   "outputs": [],
   "execution_count": null,
   "source": ""
  },
  {
   "metadata": {},
   "cell_type": "markdown",
   "source": [
    "# Model Enhancements\n",
    "## Transfer Learning\n",
    " Integrate Transfer Learning for Emotion Classification. In our case we will use ResNet model."
   ]
  },
  {
   "metadata": {},
   "cell_type": "markdown",
   "source": "### 1. Import and Modify Pre-Trained Model"
  },
  {
   "metadata": {
    "ExecuteTime": {
     "end_time": "2024-12-30T19:07:20.750039100Z",
     "start_time": "2024-12-30T16:15:10.708410Z"
    }
   },
   "cell_type": "code",
   "source": [
    "from torchvision import models, transforms\n",
    "\n",
    "device = torch.device(\"mps\" if torch.mps.is_available() else \"cpu\")\n",
    "\n",
    "# Load Pre-Trained Model (ResNet50 in this example)\n",
    "pretrained_model = models.resnet50(pretrained=True)\n",
    "\n",
    "# Freeze the weights of the pre-trained layers to retain learned features.\n",
    "for param in pretrained_model.parameters():\n",
    "    param.requires_grad = False\n",
    "\n",
    "# Replace the final classification layer to suit our classification needs\n",
    "num_classes = 8\n",
    "pretrained_model.fc = nn.Linear(pretrained_model.fc.in_features, num_classes)\n",
    "\n",
    "# Define Transforms for the Dataset\n",
    "train_transform = transforms.Compose([\n",
    "    transforms.RandomHorizontalFlip(),\n",
    "    transforms.RandomRotation(15),\n",
    "    transforms.ColorJitter(brightness=0.2, contrast=0.2),\n",
    "    transforms.ToTensor(),\n",
    "    transforms.Normalize(mean=[0.485, 0.456, 0.406], std=[0.229, 0.224, 0.225])\n",
    "])"
   ],
   "outputs": [
    {
     "name": "stderr",
     "output_type": "stream",
     "text": [
      "C:\\Users\\ruzte\\PycharmProjects\\data_ai_5_dl_project\\.venv\\Lib\\site-packages\\torchvision\\models\\_utils.py:208: UserWarning: The parameter 'pretrained' is deprecated since 0.13 and may be removed in the future, please use 'weights' instead.\n",
      "  warnings.warn(\n",
      "C:\\Users\\ruzte\\PycharmProjects\\data_ai_5_dl_project\\.venv\\Lib\\site-packages\\torchvision\\models\\_utils.py:223: UserWarning: Arguments other than a weight enum or `None` for 'weights' are deprecated since 0.13 and may be removed in the future. The current behavior is equivalent to passing `weights=ResNet50_Weights.IMAGENET1K_V1`. You can also use `weights=ResNet50_Weights.DEFAULT` to get the most up-to-date weights.\n",
      "  warnings.warn(msg)\n",
      "Downloading: \"https://download.pytorch.org/models/resnet50-0676ba61.pth\" to C:\\Users\\ruzte/.cache\\torch\\hub\\checkpoints\\resnet50-0676ba61.pth\n",
      "100.0%\n"
     ]
    }
   ],
   "execution_count": 6
  },
  {
   "metadata": {},
   "cell_type": "markdown",
   "source": "### Train modified model"
  },
  {
   "metadata": {
    "ExecuteTime": {
     "end_time": "2024-12-30T19:07:20.756079400Z",
     "start_time": "2024-12-30T17:37:41.680487Z"
    }
   },
   "cell_type": "code",
   "source": [
    "early_stopping = EarlyStopping(patience=8)\n",
    "model = pretrained_model.to(device)\n",
    "criterion = nn.CrossEntropyLoss()\n",
    "optimizer = optim.Adam(model.parameters(), lr=0.01, weight_decay=1e-7)\n",
    "\n",
    "train_model(\n",
    "    model=model,\n",
    "    train_loader=train_loader,\n",
    "    val_loader=val_loader,\n",
    "    optimizer=optimizer,\n",
    "    criterion=criterion,\n",
    "    device=device,\n",
    "    num_epochs=10,\n",
    "    early_stopping=early_stopping\n",
    ")"
   ],
   "outputs": [
    {
     "name": "stdout",
     "output_type": "stream",
     "text": [
      "Epoch 1/10 Train Loss: 2.3018, Val Loss: 2.4131\n",
      "Epoch 2/10 Train Loss: 2.1931, Val Loss: 2.2415\n",
      "Epoch 3/10 Train Loss: 2.1915, Val Loss: 4.0000\n",
      "Epoch 4/10 Train Loss: 2.3241, Val Loss: 2.7793\n",
      "Epoch 5/10 Train Loss: 2.2166, Val Loss: 2.2267\n",
      "Epoch 6/10 Train Loss: 2.2675, Val Loss: 2.3032\n",
      "Epoch 7/10 Train Loss: 2.3321, Val Loss: 2.2403\n",
      "Epoch 8/10 Train Loss: 2.1949, Val Loss: 2.7477\n",
      "Epoch 9/10 Train Loss: 2.1801, Val Loss: 2.2125\n",
      "================================\n",
      "Train Loss: 2.2542\n",
      "Train Accuracy: 0.4256\n",
      "Train Precision 0.4154\n",
      "Train Recall: 0.4256\n",
      "Train F1 score: 0.4200\n",
      "================================\n",
      "Val Loss: 2.8454\n",
      "Val Accuracy: 0.4149\n",
      "Val Precision 0.5030\n",
      "Val Recall: 0.4149\n",
      "Val F1 score: 0.3717\n"
     ]
    }
   ],
   "execution_count": 23
  },
  {
   "metadata": {},
   "cell_type": "markdown",
   "source": "### Evaluate the model"
  },
  {
   "metadata": {
    "ExecuteTime": {
     "end_time": "2024-12-30T19:07:20.758079700Z",
     "start_time": "2024-12-30T16:46:43.260504Z"
    }
   },
   "cell_type": "code",
   "source": "metrics = evaluate_model(model, test_loader, device)",
   "outputs": [
    {
     "name": "stdout",
     "output_type": "stream",
     "text": [
      "Test Accuracy: 0.4591\n",
      "Test Precision 0.4934\n",
      "Test Recall: 0.4591\n",
      "Test F1 score: 0.4452\n"
     ]
    }
   ],
   "execution_count": 15
  },
  {
   "metadata": {},
   "cell_type": "markdown",
   "source": "### Visualise model evaluation"
  },
  {
   "metadata": {
    "ExecuteTime": {
     "end_time": "2024-12-30T19:07:20.785302200Z",
     "start_time": "2024-12-30T16:49:21.502236Z"
    }
   },
   "cell_type": "code",
   "source": [
    "emotion_labels = [\n",
    "    \"Neutral\", \"Happiness\", \"Surprise\", \"Sadness\",\n",
    "    \"Anger\", \"Disgust\", \"Fear\", \"Contempt\"\n",
    "]\n",
    "\n",
    "all_labels = []  # True labels\n",
    "all_predictions = []  # Model predictions\n",
    "\n",
    "with torch.no_grad():\n",
    "    for images, labels in test_loader:\n",
    "        images, labels = images.to(device), labels.to(device)\n",
    "        outputs = model(images)\n",
    "        _, predicted = torch.max(outputs, 1)\n",
    "        all_labels.extend(labels.cpu().numpy())\n",
    "        all_predictions.extend(predicted.cpu().numpy())\n",
    "\n",
    "cm = confusion_matrix(all_labels, all_predictions)\n",
    "plt.figure(figsize=(8, 6))\n",
    "sns.heatmap(cm, annot=True, fmt=\"d\", cmap=\"Blues\", xticklabels=emotion_labels, yticklabels=emotion_labels)\n",
    "plt.title(\"Confusion Matrix\")\n",
    "plt.xlabel(\"Predicted\")\n",
    "plt.ylabel(\"True\")\n",
    "plt.show()"
   ],
   "outputs": [
    {
     "data": {
      "text/plain": [
       "<Figure size 800x600 with 2 Axes>"
      ],
      "image/png": "[encoded data removed]"
     },
     "metadata": {},
     "output_type": "display_data"
    }
   ],
   "execution_count": 16
  },
  {
   "metadata": {},
   "cell_type": "markdown",
   "source": [
    "## Ensemble Methods\n",
    "Combine predictions from multiple CNN models to create a robust ensemble model"
   ]
  },
  {
   "metadata": {
    "ExecuteTime": {
     "end_time": "2024-12-30T19:19:00.900714Z",
     "start_time": "2024-12-30T19:19:00.896Z"
    }
   },
   "cell_type": "code",
   "source": [
    "import numpy as np\n",
    "\n",
    "def ensemble_predict(models, dataloader, device):\n",
    "    \"\"\"\n",
    "    Combine predictions from multiple models using an ensemble approach.\n",
    "\n",
    "    Parameters:\n",
    "    - models: List of trained models.\n",
    "    - dataloader: DataLoader for validation or test data.\n",
    "    - device: Device (CPU or GPU) for computation.\n",
    "\n",
    "    Returns:\n",
    "    - Final ensemble predictions.\n",
    "    \"\"\"\n",
    "    all_predictions = []\n",
    "\n",
    "    for inputs, _ in dataloader:\n",
    "        inputs = inputs.to(device)\n",
    "\n",
    "        # Store predictions from all models\n",
    "        model_outputs = []\n",
    "        for model in models:\n",
    "            model.eval()\n",
    "            with torch.no_grad():\n",
    "                outputs = model(inputs)\n",
    "                probs = nn.functional.softmax(outputs, dim=1)  # Convert logits to probabilities\n",
    "                model_outputs.append(probs.cpu().numpy())\n",
    "\n",
    "        # Average probabilities across models\n",
    "        averaged_probs = np.mean(model_outputs, axis=0)  # Shape: [batch_size, num_classes]\n",
    "        final_predictions = np.argmax(averaged_probs, axis=1)  # Final predicted classes\n",
    "        all_predictions.extend(final_predictions)\n",
    "\n",
    "    return np.array(all_predictions)"
   ],
   "outputs": [],
   "execution_count": 42
  },
  {
   "metadata": {
    "ExecuteTime": {
     "end_time": "2024-12-30T19:19:57.537952Z",
     "start_time": "2024-12-30T19:19:50.320976Z"
    }
   },
   "cell_type": "code",
   "source": [
    "custom_model = torch.load(\"models/model_80.pth\")\n",
    "resnet50_model = model\n",
    "\n",
    "ensemble_models = [resnet50_model, custom_model]\n",
    "\n",
    "# Example: Evaluate on test set\n",
    "ensemble_predictions = ensemble_predict(ensemble_models, test_loader, device)\n",
    "print(\"Ensemble Predictions:\", )\n",
    "ensemble_predictions"
   ],
   "outputs": [
    {
     "name": "stderr",
     "output_type": "stream",
     "text": [
      "C:\\Users\\ruzte\\AppData\\Local\\Temp\\ipykernel_2968\\932892560.py:1: FutureWarning: You are using `torch.load` with `weights_only=False` (the current default value), which uses the default pickle module implicitly. It is possible to construct malicious pickle data which will execute arbitrary code during unpickling (See https://github.com/pytorch/pytorch/blob/main/SECURITY.md#untrusted-models for more details). In a future release, the default value for `weights_only` will be flipped to `True`. This limits the functions that could be executed during unpickling. Arbitrary objects will no longer be allowed to be loaded via this mode unless they are explicitly allowlisted by the user via `torch.serialization.add_safe_globals`. We recommend you start setting `weights_only=True` for any use case where you don't have full control of the loaded file. Please open an issue on GitHub for any issues related to this experimental feature.\n",
      "  custom_model = torch.load(\"models/model_80.pth\")\n"
     ]
    },
    {
     "name": "stdout",
     "output_type": "stream",
     "text": [
      "Ensemble Predictions:\n"
     ]
    },
    {
     "data": {
      "text/plain": [
       "array([0, 4, 4, ..., 0, 0, 1], shape=(2067,))"
      ]
     },
     "execution_count": 44,
     "metadata": {},
     "output_type": "execute_result"
    }
   ],
   "execution_count": 44
  },
  {
   "metadata": {},
   "cell_type": "code",
   "outputs": [],
   "execution_count": null,
   "source": ""
  }
 ],
 "metadata": {
  "kernelspec": {
   "display_name": ".venv",
   "language": "python",
   "name": "python3"
  },
  "language_info": {
   "codemirror_mode": {
    "name": "ipython",
    "version": 3
   },
   "file_extension": ".py",
   "mimetype": "text/x-python",
   "name": "python",
   "nbconvert_exporter": "python",
   "pygments_lexer": "ipython3",
   "version": "3.10.15"
  }
 },
 "nbformat": 4,
 "nbformat_minor": 2
}
