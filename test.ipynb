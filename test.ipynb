{
 "cells": [
  {
   "cell_type": "code",
   "execution_count": 23,
   "metadata": {},
   "outputs": [],
   "source": [
    "# Step 1: Import Libraries\n",
    "import torch # pytorch package import\n",
    "import torch.nn as nn\n",
    "import torch.optim as optim\n",
    "import torchvision  # pytorch vision package import\n",
    "from  torchvision import datasets, transforms\n",
    "from torch.utils.data import DataLoader\n",
    "import matplotlib.pyplot as plt\n",
    "import numpy as np\n",
    "\n",
    "device = torch.device(\"mps\" if torch.mps.is_available() else \"cpu\")"
   ]
  },
  {
   "cell_type": "code",
   "execution_count": 17,
   "metadata": {},
   "outputs": [],
   "source": [
    "# Paths to dataset directories\n",
    "train_dir = \"./data/FER2013Train\"\n",
    "val_dir = \"./data/FER2013Valid\"\n",
    "test_dir = \"./data/FER2013Test\"\n",
    "\n",
    "# Paths to labels\n",
    "train_csv = \"./data/FER2013Train/label.csv\"\n",
    "val_csv = \"./data/FER2013Valid/label.csv\"\n",
    "test_csv = \"./data/FER2013Test/label.csv\""
   ]
  },
  {
   "cell_type": "code",
   "execution_count": 18,
   "metadata": {},
   "outputs": [],
   "source": [
    "# Step 2: Load and Preprocess the Dataset\n",
    "# ----------------------------------------\n",
    "# Fill in the blanks to load and preprocess the dataset\n",
    "# Hint: Use torchvision.datasets for datasets like CIFAR-10 or MNIST\n",
    "\n",
    "# Define transformations\n",
    "transform = transforms.Compose([\n",
    "    transforms.RandomResizedCrop(size=(32, 32)),  # Resize if necessary\n",
    "    transforms.ToTensor() ,  # Convert images to tensors\n",
    "    transforms.Normalize((0.5,), (0.5,), (0.5,),)  # Normalize the images\n",
    "])\n",
    "\n",
    "from FERPlusDataset import FERPlusDataset\n",
    "\n",
    "\n",
    "train_dataset = FERPlusDataset(image_dir=train_dir, transform=transform, label_csv=train_csv, mode=\"majority\")\n",
    "val_dataset = FERPlusDataset(image_dir=val_dir, transform=transform, label_csv=val_csv, mode=\"majority\")\n",
    "test_dataset = FERPlusDataset(image_dir=test_dir, transform=transform, label_csv=test_csv, mode=\"majority\")\n",
    "\n",
    "# Create data loaders\n",
    "batch_size = 64\n",
    "train_loader = DataLoader(train_dataset, batch_size=batch_size, shuffle=True)\n",
    "val_loader = DataLoader(val_dataset, batch_size=batch_size, shuffle=False)\n",
    "test_loader = DataLoader(test_dataset, batch_size=batch_size, shuffle=False)"
   ]
  },
  {
   "cell_type": "code",
   "execution_count": 24,
   "metadata": {},
   "outputs": [],
   "source": [
    "class CNN(nn.Module):\n",
    "    def __init__(self):\n",
    "        super(CNN, self).__init__()\n",
    "        self.conv1 = nn.Conv2d(in_channels=3, out_channels=32, kernel_size=3, stride=1, padding=1)  # Fix in_channels\n",
    "        self.pool = nn.MaxPool2d(kernel_size=2, stride=2, padding=0)\n",
    "        self.conv2 = nn.Conv2d(in_channels=32, out_channels=64, kernel_size=3, stride=1, padding=1)\n",
    "        self.fc1 = nn.Linear(in_features=64 * 8 * 8, out_features=128)\n",
    "        self.fc2 = nn.Linear(in_features=128, out_features=10)\n",
    "\n",
    "    def forward(self, x):\n",
    "        x = self.pool(torch.relu(self.conv1(x)))  # Activation and pooling\n",
    "        x = self.pool(torch.relu(self.conv2(x)))\n",
    "        x = x.view(-1, 64 * 8 * 8)  # Flatten the tensor\n",
    "        x = torch.relu(self.fc1(x))\n",
    "        x = self.fc2(x)\n",
    "        return x\n",
    "\n",
    "\n",
    "model = CNN().to(device)"
   ]
  },
  {
   "cell_type": "code",
   "execution_count": 26,
   "metadata": {},
   "outputs": [],
   "source": [
    "\n",
    "\n",
    "criterion = nn.CrossEntropyLoss()  # Loss function for classification\n",
    "optimizer = optim.Adam(model.parameters(), lr=0.001)  # call optimizer"
   ]
  },
  {
   "cell_type": "code",
   "execution_count": 27,
   "metadata": {},
   "outputs": [
    {
     "name": "stdout",
     "output_type": "stream",
     "text": [
      "Epoch [1/10], Step [100/296], Loss: 1.5665\n",
      "Epoch [1/10], Step [200/296], Loss: 1.5072\n",
      "Epoch [2/10], Step [100/296], Loss: 1.4280\n",
      "Epoch [2/10], Step [200/296], Loss: 1.3840\n",
      "Epoch [3/10], Step [100/296], Loss: 1.3677\n",
      "Epoch [3/10], Step [200/296], Loss: 1.3364\n",
      "Epoch [4/10], Step [100/296], Loss: 1.2899\n",
      "Epoch [4/10], Step [200/296], Loss: 1.2794\n",
      "Epoch [5/10], Step [100/296], Loss: 1.2440\n",
      "Epoch [5/10], Step [200/296], Loss: 1.2363\n",
      "Epoch [6/10], Step [100/296], Loss: 1.2058\n",
      "Epoch [6/10], Step [200/296], Loss: 1.1956\n",
      "Epoch [7/10], Step [100/296], Loss: 1.1856\n",
      "Epoch [7/10], Step [200/296], Loss: 1.1514\n",
      "Epoch [8/10], Step [100/296], Loss: 1.1404\n",
      "Epoch [8/10], Step [200/296], Loss: 1.1463\n",
      "Epoch [9/10], Step [100/296], Loss: 1.1244\n",
      "Epoch [9/10], Step [200/296], Loss: 1.1189\n",
      "Epoch [10/10], Step [100/296], Loss: 1.1270\n",
      "Epoch [10/10], Step [200/296], Loss: 1.1088\n"
     ]
    }
   ],
   "source": [
    "# Step 5: Train the Model\n",
    "num_epochs = 10 # define number of epochs\n",
    "for epoch in range(num_epochs):\n",
    "    model.train()\n",
    "    running_loss = 0.0\n",
    "    for i, (inputs, labels) in enumerate(train_loader):\n",
    "        # Zero the parameter gradients\n",
    "        \n",
    "        inputs, labels = inputs.to(device), labels.to(device)\n",
    "        \n",
    "        optimizer.zero_grad()\n",
    "\n",
    "        # Forward pass\n",
    "        outputs = model(inputs)\n",
    "        loss = criterion(outputs, labels)\n",
    "\n",
    "        # Backward pass\n",
    "        loss.backward()\n",
    "        optimizer.step()\n",
    "\n",
    "        running_loss += loss.item()\n",
    "        if (i + 1) % 100 == 0:  # Print every 100 batches\n",
    "            print(\n",
    "                f\"Epoch [{epoch + 1}/{num_epochs}], Step [{i + 1}/{len(train_loader)}], Loss: {running_loss / 100:.4f}\")\n",
    "            running_loss = 0.0"
   ]
  },
  {
   "cell_type": "code",
   "execution_count": 28,
   "metadata": {},
   "outputs": [
    {
     "name": "stdout",
     "output_type": "stream",
     "text": [
      "Test Accuracy: 59.70%\n"
     ]
    }
   ],
   "source": [
    "def test(model, test_loader, device):\n",
    "    model.eval()\n",
    "    correct = 0\n",
    "    total = 0\n",
    "\n",
    "    with torch.no_grad():\n",
    "        for images, labels in test_loader:\n",
    "            images, labels = images.to(device), labels.to(device)\n",
    "\n",
    "            outputs = model(images)\n",
    "            _, predicted = torch.max(outputs, 1)\n",
    "            total += labels.size(0)\n",
    "            correct += (predicted == labels).sum().item()\n",
    "\n",
    "    test_acc = 100 * correct / total\n",
    "    print(f\"Test Accuracy: {test_acc:.2f}%\")\n",
    "    return test_acc\n",
    "\n",
    "test_acc = test(model, test_loader, device)\n"
   ]
  }
 ],
 "metadata": {
  "kernelspec": {
   "display_name": ".venv",
   "language": "python",
   "name": "python3"
  },
  "language_info": {
   "codemirror_mode": {
    "name": "ipython",
    "version": 3
   },
   "file_extension": ".py",
   "mimetype": "text/x-python",
   "name": "python",
   "nbconvert_exporter": "python",
   "pygments_lexer": "ipython3",
   "version": "3.10.15"
  }
 },
 "nbformat": 4,
 "nbformat_minor": 2
}
